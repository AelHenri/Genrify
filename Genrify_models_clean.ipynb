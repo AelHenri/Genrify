{
 "cells": [
  {
   "cell_type": "markdown",
   "metadata": {},
   "source": [
    "# Genrify Project - Phase II\n",
    "## Music genre prediction"
   ]
  },
  {
   "cell_type": "markdown",
   "metadata": {},
   "source": [
    "Henri Toussaint<br>\n",
    "Victor Saint Guilhem<br>\n",
    "Benoît Lafon<br>"
   ]
  },
  {
   "cell_type": "markdown",
   "metadata": {},
   "source": [
    "The project sets out to predict the genre of a music using the Spotify API, which provides audio features for each tracks. To collect the tracks, we used a recommandation function with a genre seed. We handpicked 20 genres in order to best represent tracks, and from each genre, we collected 100 tracks."
   ]
  },
  {
   "cell_type": "code",
   "execution_count": 1,
   "metadata": {
    "collapsed": false
   },
   "outputs": [],
   "source": [
    "from genrify_module import *\n",
    "%matplotlib inline"
   ]
  },
  {
   "cell_type": "markdown",
   "metadata": {},
   "source": [
    "### Data Loading Using Pandas"
   ]
  },
  {
   "cell_type": "code",
   "execution_count": 8,
   "metadata": {
    "collapsed": false,
    "scrolled": false
   },
   "outputs": [],
   "source": [
    "data = pd.read_csv(\"music_collection.csv\")\n",
    "data = data.iloc[np.random.permutation(len(data))]\n",
    "pd_attributes = data.loc[:,'acousticness':'valence']\n",
    "attributes = np.array(pd_attributes)"
   ]
  },
  {
   "cell_type": "markdown",
   "metadata": {},
   "source": [
    "### Data Shape"
   ]
  },
  {
   "cell_type": "code",
   "execution_count": 9,
   "metadata": {
    "collapsed": false
   },
   "outputs": [
    {
     "name": "stdout",
     "output_type": "stream",
     "text": [
      "Number of instances: 2000\n",
      "Number of attributes: 13\n",
      "Attributes:\n",
      "\tacousticness\n",
      "\tdanceability\n",
      "\tduration_ms\n",
      "\tenergy\n",
      "\tinstrumentalness\n",
      "\tkey\n",
      "\tliveness\n",
      "\tloudness\n",
      "\tmode\n",
      "\tspeechiness\n",
      "\ttempo\n",
      "\ttime_signature\n",
      "\tvalence\n"
     ]
    }
   ],
   "source": [
    "print('Number of instances: ' + str(data.shape[0]))\n",
    "print('Number of attributes: ' + str(pd_attributes.shape[1]))\n",
    "print('Attributes:')\n",
    "for i in pd_attributes.columns.values:\n",
    "    print('\\t'+str(i))"
   ]
  },
  {
   "cell_type": "markdown",
   "metadata": {},
   "source": [
    "### Performance Measure"
   ]
  },
  {
   "cell_type": "markdown",
   "metadata": {},
   "source": []
  },
  {
   "cell_type": "markdown",
   "metadata": {},
   "source": [
    "### Scaling"
   ]
  },
  {
   "cell_type": "code",
   "execution_count": 11,
   "metadata": {
    "collapsed": true
   },
   "outputs": [],
   "source": [
    "sc_attributes = scale(attributes)"
   ]
  },
  {
   "cell_type": "markdown",
   "metadata": {},
   "source": [
    "### Multinomial Target Variable"
   ]
  },
  {
   "cell_type": "code",
   "execution_count": 13,
   "metadata": {
    "collapsed": true
   },
   "outputs": [],
   "source": [
    "GENRES = ['alternative','blues','classical','country','electro','folk','french','hard-rock','heavy-metal','hip-hop','indie','jazz','pop','psych-rock','punk-rock','r-n-b','reggae','rock','soul','techno']\n",
    "target_multinomial = []\n",
    "for i in data['genre']:\n",
    "    target_multinomial.append(GENRES.index(i))\n",
    "target_multinomial=np.array(target_multinomial)"
   ]
  },
  {
   "cell_type": "markdown",
   "metadata": {},
   "source": [
    "## Baselines"
   ]
  },
  {
   "cell_type": "markdown",
   "metadata": {},
   "source": [
    "### Random prediction"
   ]
  },
  {
   "cell_type": "code",
   "execution_count": 12,
   "metadata": {
    "collapsed": false
   },
   "outputs": [
    {
     "name": "stdout",
     "output_type": "stream",
     "text": [
      "Averaged Decision Tree Accuracy: 0.054\n"
     ]
    },
    {
     "ename": "NameError",
     "evalue": "name 'x_train' is not defined",
     "output_type": "error",
     "traceback": [
      "\u001b[0;31m---------------------------------------------------------------------------\u001b[0m",
      "\u001b[0;31mNameError\u001b[0m                                 Traceback (most recent call last)",
      "\u001b[0;32m<ipython-input-12-ddfd91d3e11f>\u001b[0m in \u001b[0;36m<module>\u001b[0;34m()\u001b[0m\n\u001b[1;32m      5\u001b[0m \u001b[0mprint\u001b[0m\u001b[0;34m(\u001b[0m\u001b[0;34m\"Averaged Decision Tree Accuracy: \"\u001b[0m \u001b[0;34m+\u001b[0m \u001b[0mstr\u001b[0m\u001b[0;34m(\u001b[0m\u001b[0mavg_random_acc\u001b[0m\u001b[0;34m)\u001b[0m\u001b[0;34m)\u001b[0m\u001b[0;34m\u001b[0m\u001b[0m\n\u001b[1;32m      6\u001b[0m \u001b[0;34m\u001b[0m\u001b[0m\n\u001b[0;32m----> 7\u001b[0;31m \u001b[0mrandom_fitted\u001b[0m \u001b[0;34m=\u001b[0m \u001b[0mrandom_model\u001b[0m\u001b[0;34m.\u001b[0m\u001b[0mfit\u001b[0m\u001b[0;34m(\u001b[0m\u001b[0mx_train\u001b[0m\u001b[0;34m,\u001b[0m \u001b[0my_train\u001b[0m\u001b[0;34m)\u001b[0m\u001b[0;34m\u001b[0m\u001b[0m\n\u001b[0m\u001b[1;32m      8\u001b[0m \u001b[0;34m\u001b[0m\u001b[0m\n\u001b[1;32m      9\u001b[0m \u001b[0my_pred_random\u001b[0m \u001b[0;34m=\u001b[0m \u001b[0mrandom_fitted\u001b[0m\u001b[0;34m.\u001b[0m\u001b[0mpredict\u001b[0m\u001b[0;34m(\u001b[0m\u001b[0mx_test\u001b[0m\u001b[0;34m)\u001b[0m\u001b[0;34m\u001b[0m\u001b[0m\n",
      "\u001b[0;31mNameError\u001b[0m: name 'x_train' is not defined"
     ]
    }
   ],
   "source": [
    "random_model = DummyClassifier(strategy='uniform')\n",
    "\n",
    "random_acc_scores = cross_val_score(random_model, sc_attributes, target_multinomial,cv=10)\n",
    "avg_random_acc = np.mean(random_acc_scores)\n",
    "print(\"Averaged Decision Tree Accuracy: \" + str(avg_random_acc))\n",
    "\n",
    "random_fitted = random_model.fit(x_train, y_train)\n",
    "\n",
    "y_pred_random = random_fitted.predict(x_test)\n",
    "\n",
    "cnf_random = confusion_matrix(y_test, y_pred_random)\n",
    "\n",
    "plot_confusion_matrix(cnf_random, classes=GENRES,\n",
    "                      title='Confusion matrix, without normalization')"
   ]
  },
  {
   "cell_type": "markdown",
   "metadata": {},
   "source": [
    "### Pridicting the majority class"
   ]
  },
  {
   "cell_type": "code",
   "execution_count": null,
   "metadata": {
    "collapsed": false
   },
   "outputs": [],
   "source": [
    "majo_model = DummyClassifier(strategy='most_frequent')\n",
    "\n",
    "majo_acc_scores = cross_val_score(majo_model, sc_attributes, target_multinomial,cv=10)\n",
    "avg_majo_acc = np.mean(majo_acc_scores)\n",
    "print(\"Averaged Decision Tree Accuracy: \" + str(avg_majo_acc))\n",
    "\n",
    "majo_fitted = majo_model.fit(x_train, y_train)\n",
    "\n",
    "y_pred_majo = majo_fitted.predict(x_test)\n",
    "\n",
    "cnf_majo = confusion_matrix(y_test, y_pred_majo)\n",
    "\n",
    "plot_confusion_matrix(cnf_majo, classes=GENRES,\n",
    "                      title='Confusion matrix, without normalization')"
   ]
  },
  {
   "cell_type": "markdown",
   "metadata": {},
   "source": [
    "# Target variable"
   ]
  },
  {
   "cell_type": "code",
   "execution_count": null,
   "metadata": {
    "collapsed": false,
    "scrolled": false
   },
   "outputs": [],
   "source": [
    "#plt.figure('Genres')\n",
    "#data['genre'].astype(\"category\")\n",
    "count_genre = data.groupby(\"genre\").size()\n",
    "count_genre.plot(kind='bar',title='Genres',figsize=[13,8], colormap='Paired',fontsize=20)\n"
   ]
  },
  {
   "cell_type": "markdown",
   "metadata": {},
   "source": [
    "# Target Variable vectorized"
   ]
  },
  {
   "cell_type": "code",
   "execution_count": null,
   "metadata": {
    "collapsed": false,
    "scrolled": false
   },
   "outputs": [],
   "source": [
    "pd_target_vect = pd.get_dummies(data['genre'])\n",
    "pd_target_vect.head()"
   ]
  },
  {
   "cell_type": "code",
   "execution_count": null,
   "metadata": {
    "collapsed": false,
    "scrolled": false
   },
   "outputs": [],
   "source": [
    "target_vect = np.array(pd_target_vect)\n",
    "print('Dimension: ' + str(target_vect.shape))\n",
    "print(repr(target_vect))\n",
    "\n"
   ]
  },
  {
   "cell_type": "markdown",
   "metadata": {},
   "source": [
    "# Split"
   ]
  },
  {
   "cell_type": "code",
   "execution_count": null,
   "metadata": {
    "collapsed": false,
    "scrolled": false
   },
   "outputs": [],
   "source": [
    "x_train, x_test, y_train, y_test = train_test_split(sc_attributes, target_multinomial, train_size=0.67, random_state=1)"
   ]
  },
  {
   "cell_type": "markdown",
   "metadata": {},
   "source": [
    "# Logistic Regression"
   ]
  },
  {
   "cell_type": "code",
   "execution_count": null,
   "metadata": {
    "collapsed": false,
    "scrolled": false
   },
   "outputs": [],
   "source": [
    "lr_models =[]\n",
    "Cs = [0.01,0.1,1,2,3,5]\n",
    "for c in Cs:\n",
    "    lr_models.append(LogisticRegression(C=c, multi_class='multinomial', solver='newton-cg'))\n",
    "\n",
    "acc_scores_c=[]\n",
    "for model in lr_models:\n",
    "    acc_scores = cross_val_score(model, sc_attributes, target_multinomial,cv=5)\n",
    "    acc_scores_c.append(np.mean(acc_scores))\n",
    "\n",
    "plt.plot(Cs,acc_scores_c)\n",
    "plt.title('Accurancy vs C')\n",
    "print(acc_scores_c)\n",
    "\n",
    "lr_fitted = lr_models[4].fit(x_train,y_train) #model for C=3\n",
    "#print(lr_fitted.coef_)   #array(nb_classes=20, nb_features=13)\n",
    "indices_max_coef = np.argmax(lr_fitted.coef_, axis=1)\n",
    "#print(indices_max_coef)\n",
    "best_attribute_class = []     #Attribute that contributes the most to a given class based on the weight value \n",
    "for i in indices_max_coef:\n",
    "    best_attribute_class.append(pd_attributes.columns.values[i])\n",
    "print(best_attribute_class)\n",
    "\n",
    "y_pred_lr = lr_fitted.predict(x_test)\n",
    "\n",
    "cnf_lr = confusion_matrix(y_test, y_pred_lr)\n",
    "\n",
    "plot_confusion_matrix(cnf_lr, classes=GENRES,\n",
    "                      title='Confusion matrix, without normalization')\n",
    "#plot_confusion_matrix(cnf_lr, classes=GENRES, normalize=True, title='Normalized confusion matrix')\n",
    "\n",
    "#plot_learning_curve(tree_model, \"Decision Tree - LEARNING CURVE\", sc_attributes, target_multinomial, cv=5, n_jobs=4)\n"
   ]
  },
  {
   "cell_type": "markdown",
   "metadata": {},
   "source": [
    "# Decision Tree"
   ]
  },
  {
   "cell_type": "code",
   "execution_count": null,
   "metadata": {
    "collapsed": false,
    "scrolled": true
   },
   "outputs": [],
   "source": [
    "tree_model = tree.DecisionTreeClassifier(min_samples_split=5, min_samples_leaf=15)\n",
    "\n",
    "tree_acc_scores = cross_val_score(tree_model, sc_attributes, target_multinomial,cv=10)\n",
    "avg_tree_acc = np.mean(tree_acc_scores)\n",
    "print(\"Averaged Decision Tree Accuracy: \" + str(avg_tree_acc))\n",
    "\n",
    "tree_fitted = tree_model.fit(x_train, y_train)\n",
    "\n",
    "y_pred_tree = tree_fitted.predict(x_test)\n",
    "\n",
    "cnf_tree = confusion_matrix(y_test, y_pred_tree)\n",
    "\n",
    "plot_confusion_matrix(cnf_tree, classes=GENRES,\n",
    "                      title='Confusion matrix, without normalization')\n",
    "\n",
    "plot_learning_curve(tree_model, \"Decision Tree - LEARNING CURVE\", sc_attributes, target_multinomial, cv=5, n_jobs=4)\n"
   ]
  },
  {
   "cell_type": "markdown",
   "metadata": {},
   "source": [
    "# Naïve Bayes"
   ]
  },
  {
   "cell_type": "code",
   "execution_count": null,
   "metadata": {
    "collapsed": false,
    "scrolled": false
   },
   "outputs": [],
   "source": [
    "NB_model = GaussianNB()\n",
    "NB_acc_scores = cross_val_score(NB_model, sc_attributes, target_multinomial,cv=10)\n",
    "\n",
    "avg_NB_acc = np.mean(NB_acc_scores)\n",
    "print(\"Averaged Naïve Bayes Accuracy: \" + str(avg_NB_acc))\n",
    "\n",
    "NB_fitted = NB_model.fit(x_train, y_train)\n",
    "\n",
    "y_pred_NB = NB_fitted.predict(x_test)\n",
    "\n",
    "cnf_NB = confusion_matrix(y_test, y_pred_NB)\n",
    "\n",
    "plot_confusion_matrix(cnf_NB, classes=GENRES,\n",
    "                      title='Confusion matrix, without normalization')\n",
    "\n",
    "#train_sizes, train_scores, valid_scores = learning_curve(\n",
    "#            GaussianNB(), sc_attributes, target_multinomial, train_sizes=[50, 80, 110], cv=5)\n",
    "plot_learning_curve(NB_model, \"NAIVE BAYE - LEARNING CURVE\", sc_attributes, target_multinomial, cv=5, n_jobs=4)\n",
    "\n"
   ]
  },
  {
   "cell_type": "markdown",
   "metadata": {},
   "source": [
    "# Neural Networks"
   ]
  },
  {
   "cell_type": "code",
   "execution_count": null,
   "metadata": {
    "collapsed": false
   },
   "outputs": [],
   "source": [
    "NN_model = MLPClassifier(hidden_layer_sizes=(200,),alpha=10,activation='tanh', solver='lbfgs')\n",
    "NN_acc_scores = cross_val_score(NN_model, sc_attributes, target_multinomial,cv=10)\n",
    "\n",
    "avg_NN_acc = np.mean(NN_acc_scores)\n",
    "print(\"Averaged Neural Networks Accuracy: \" + str(avg_NN_acc))\n",
    "\n",
    "NN_fitted = NN_model.fit(x_train, y_train)\n",
    "\n",
    "y_pred_NN = NN_fitted.predict(x_test)\n",
    "\n",
    "cnf_NN = confusion_matrix(y_test, y_pred_NN)\n",
    "\n",
    "plot_confusion_matrix(cnf_NN, classes=GENRES,\n",
    "                      title='Confusion matrix, without normalization')\n",
    "\n",
    "#train_sizes, train_scores, valid_scores = learning_curve(\n",
    "#            GaussianNB(), sc_attributes, target_multinomial, train_sizes=[50, 80, 110], cv=5)\n",
    "plot_learning_curve(NN_model, \"Neural Networks - LEARNING CURVE\", sc_attributes, target_multinomial, cv=5, n_jobs=4)"
   ]
  },
  {
   "cell_type": "markdown",
   "metadata": {},
   "source": [
    "# Random Forest"
   ]
  },
  {
   "cell_type": "code",
   "execution_count": null,
   "metadata": {
    "collapsed": false
   },
   "outputs": [],
   "source": [
    "RF_model = RandomForestClassifier(min_samples_split=5, min_samples_leaf=10)\n",
    "RF_acc_scores = cross_val_score(RF_model, sc_attributes, target_multinomial,cv=10)\n",
    "\n",
    "avg_RF_acc = np.mean(NN_acc_scores)\n",
    "print(\"Averaged Random Forest Accuracy: \" + str(avg_RF_acc))\n",
    "\n",
    "RF_fitted = RF_model.fit(x_train, y_train)\n",
    "\n",
    "y_pred_RF = RF_fitted.predict(x_test)\n",
    "\n",
    "cnf_RF = confusion_matrix(y_test, y_pred_RF)\n",
    "\n",
    "plot_confusion_matrix(cnf_RF, classes=GENRES,\n",
    "                      title='Confusion matrix, without normalization')\n",
    "\n",
    "#train_sizes, train_scores, valid_scores = learning_curve(\n",
    "#            GaussianNB(), sc_attributes, target_multinomial, train_sizes=[50, 80, 110], cv=5)\n",
    "plot_learning_curve(NN_model, \"Random Forest - LEARNING CURVE\", sc_attributes, target_multinomial, cv=5, n_jobs=4)"
   ]
  }
 ],
 "metadata": {
  "anaconda-cloud": {},
  "kernelspec": {
   "display_name": "Python [Root]",
   "language": "python",
   "name": "Python [Root]"
  },
  "language_info": {
   "codemirror_mode": {
    "name": "ipython",
    "version": 3
   },
   "file_extension": ".py",
   "mimetype": "text/x-python",
   "name": "python",
   "nbconvert_exporter": "python",
   "pygments_lexer": "ipython3",
   "version": "3.5.2"
  }
 },
 "nbformat": 4,
 "nbformat_minor": 0
}
