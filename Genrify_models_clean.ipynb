{
 "cells": [
  {
   "cell_type": "markdown",
   "metadata": {},
   "source": [
    "# Genrify Project - Phase II\n",
    "## Music genre prediction"
   ]
  },
  {
   "cell_type": "markdown",
   "metadata": {},
   "source": [
    "Henri Toussaint<br>\n",
    "Victor Saint Guilhem<br>\n",
    "Benoît Lafon<br>"
   ]
  },
  {
   "cell_type": "markdown",
   "metadata": {},
   "source": [
    "The project sets out to predict the genre of a music using the Spotify API, which provides audio features for each tracks. To collect the tracks, we used a recommandation function with a genre seed. We handpicked 20 genres in order to best represent tracks, and from each genre, we collected 100 tracks."
   ]
  },
  {
   "cell_type": "code",
   "execution_count": 1,
   "metadata": {
    "collapsed": false
   },
   "outputs": [],
   "source": [
    "from genrify_module import *\n",
    "%matplotlib inline"
   ]
  },
  {
   "cell_type": "markdown",
   "metadata": {},
   "source": [
    "### Data Loading Using Pandas"
   ]
  },
  {
   "cell_type": "code",
   "execution_count": 2,
   "metadata": {
    "collapsed": false,
    "scrolled": false
   },
   "outputs": [],
   "source": [
    "data = pd.read_csv(\"music_collection.csv\")\n",
    "#data = data.iloc[np.random.permutation(len(data))]\n",
    "pd_attributes = data.loc[:,'acousticness':'valence']\n",
    "attributes = np.array(pd_attributes)"
   ]
  },
  {
   "cell_type": "markdown",
   "metadata": {},
   "source": [
    "### Data Shape"
   ]
  },
  {
   "cell_type": "code",
   "execution_count": 3,
   "metadata": {
    "collapsed": false
   },
   "outputs": [
    {
     "name": "stdout",
     "output_type": "stream",
     "text": [
      "Number of instances: 2000\n",
      "Number of attributes: 13\n",
      "Attributes:\n",
      "\tacousticness\n",
      "\tdanceability\n",
      "\tduration_ms\n",
      "\tenergy\n",
      "\tinstrumentalness\n",
      "\tkey\n",
      "\tliveness\n",
      "\tloudness\n",
      "\tmode\n",
      "\tspeechiness\n",
      "\ttempo\n",
      "\ttime_signature\n",
      "\tvalence\n"
     ]
    }
   ],
   "source": [
    "print('Number of instances: ' + str(data.shape[0]))\n",
    "print('Number of attributes: ' + str(pd_attributes.shape[1]))\n",
    "print('Attributes:')\n",
    "for i in pd_attributes.columns.values:\n",
    "    print('\\t'+str(i))"
   ]
  },
  {
   "cell_type": "markdown",
   "metadata": {},
   "source": [
    "### Performance Measure"
   ]
  },
  {
   "cell_type": "markdown",
   "metadata": {},
   "source": [
    "# We chose the accuraccy measure because blablabla (à remplir)"
   ]
  },
  {
   "cell_type": "code",
   "execution_count": 4,
   "metadata": {
    "collapsed": true
   },
   "outputs": [],
   "source": [
    "#To store the performance of different models\n",
    "global_accuracy_scores = {}"
   ]
  },
  {
   "cell_type": "markdown",
   "metadata": {},
   "source": [
    "### Scaling"
   ]
  },
  {
   "cell_type": "code",
   "execution_count": 5,
   "metadata": {
    "collapsed": true
   },
   "outputs": [],
   "source": [
    "sc_attributes = scale(attributes)"
   ]
  },
  {
   "cell_type": "markdown",
   "metadata": {},
   "source": [
    "### Multinomial Target Variable"
   ]
  },
  {
   "cell_type": "code",
   "execution_count": 6,
   "metadata": {
    "collapsed": true
   },
   "outputs": [],
   "source": [
    "GENRES = ['alternative','blues','classical','country','electro','folk','french','hard-rock','heavy-metal','hip-hop','indie','jazz','pop','psych-rock','punk-rock','r-n-b','reggae','rock','soul','techno']\n",
    "target_multinomial = []\n",
    "for i in data['genre']:\n",
    "    target_multinomial.append(GENRES.index(i))\n",
    "target_multinomial=np.array(target_multinomial)"
   ]
  },
  {
   "cell_type": "markdown",
   "metadata": {},
   "source": [
    "## Baselines"
   ]
  },
  {
   "cell_type": "markdown",
   "metadata": {},
   "source": [
    "### Random prediction"
   ]
  },
  {
   "cell_type": "code",
   "execution_count": 7,
   "metadata": {
    "collapsed": false
   },
   "outputs": [
    {
     "name": "stdout",
     "output_type": "stream",
     "text": [
      "Averaged Accuracy: 0.0565\n"
     ]
    }
   ],
   "source": [
    "random_model = DummyClassifier(strategy='uniform')\n",
    "\n",
    "random_acc_scores = cross_val_score(random_model, sc_attributes, target_multinomial,cv=10)\n",
    "avg_random_acc = np.mean(random_acc_scores)\n",
    "print(\"Averaged Accuracy: \" + str(avg_random_acc))\n",
    "global_accuracy_scores[\"Random\"] = avg_random_acc"
   ]
  },
  {
   "cell_type": "markdown",
   "metadata": {},
   "source": [
    "### Predicting the majority class"
   ]
  },
  {
   "cell_type": "code",
   "execution_count": 8,
   "metadata": {
    "collapsed": false
   },
   "outputs": [
    {
     "name": "stdout",
     "output_type": "stream",
     "text": [
      "Averaged Accuracy: 0.05\n"
     ]
    }
   ],
   "source": [
    "majo_model = DummyClassifier(strategy='most_frequent')\n",
    "\n",
    "majo_acc_scores = cross_val_score(majo_model, sc_attributes, target_multinomial,cv=10)\n",
    "avg_majo_acc = np.mean(majo_acc_scores)\n",
    "print(\"Averaged Accuracy: \" + str(avg_majo_acc))\n",
    "global_accuracy_scores[\"Majority Class \"] = avg_majo_acc"
   ]
  },
  {
   "cell_type": "markdown",
   "metadata": {},
   "source": [
    "## Model selection"
   ]
  },
  {
   "cell_type": "markdown",
   "metadata": {},
   "source": [
    "### Logistic Regression"
   ]
  },
  {
   "cell_type": "code",
   "execution_count": 9,
   "metadata": {
    "collapsed": false,
    "scrolled": false
   },
   "outputs": [
    {
     "name": "stdout",
     "output_type": "stream",
     "text": [
      "Averaged accuracy for c=0.01: 0.335\n",
      "Averaged accuracy for c=0.1: 0.359\n",
      "Averaged accuracy for c=10: 0.365\n",
      "Averaged accuracy for c=20: 0.3675\n",
      "Averaged accuracy for c=30: 0.3685\n",
      "Averaged accuracy for c=40: 0.37\n",
      "Averaged accuracy for c=50: 0.37\n",
      "Averaged accuracy for c=60: 0.37\n",
      "Averaged accuracy for c=70: 0.37\n",
      "Averaged accuracy for c=80: 0.3705\n",
      "Averaged accuracy for c=90: 0.3705\n",
      "Averaged accuracy for c=100: 0.3705\n",
      "Averaged accuracy for c=110: 0.3705\n",
      "Averaged accuracy for c=120: 0.3705\n",
      "Averaged accuracy for c=130: 0.371\n",
      "Averaged accuracy for c=140: 0.371\n",
      "Averaged accuracy for c=150: 0.371\n",
      "Averaged accuracy for c=160: 0.37\n",
      "Averaged accuracy for c=170: 0.371\n",
      "Averaged accuracy for c=180: 0.3705\n",
      "Averaged accuracy for c=190: 0.3705\n",
      "Averaged accuracy for c=200: 0.3705\n",
      "Averaged accuracy for c=210: 0.3705\n",
      "Averaged accuracy for c=220: 0.3705\n",
      "Averaged accuracy for c=230: 0.3705\n",
      "Averaged accuracy for c=240: 0.3705\n",
      "Averaged accuracy for c=250: 0.3705\n",
      "Averaged accuracy for c=260: 0.3705\n",
      "Averaged accuracy for c=270: 0.3705\n",
      "Averaged accuracy for c=280: 0.3705\n",
      "Averaged accuracy for c=290: 0.3705\n",
      "Averaged accuracy for c=300: 0.3705\n",
      "Best accuracy is 0.371 with c=170\n"
     ]
    }
   ],
   "source": [
    "Cs = [0.01, 0.1]\n",
    "Cs.extend(range(10, 310, 10))\n",
    "max_score = 0\n",
    "best_c = Cs[0]\n",
    "\n",
    "for c in Cs:\n",
    "    model = LogisticRegression(C=c, multi_class='multinomial', solver='newton-cg', random_state=1)\n",
    "    score = np.mean(cross_val_score(model, sc_attributes, target_multinomial,cv=10, scoring='accuracy'))\n",
    "    print(\"Averaged accuracy for c=\" + str(c) + \": \" + str(score) )\n",
    "    if (score > max_score):\n",
    "        max_score = score\n",
    "        best_c = c\n",
    "\n",
    "print(\"Best accuracy is \"+ str(max_score) + \" with c=\" + str(best_c))\n",
    "global_accuracy_scores[\"Logistic Regression \"] = max_score\n"
   ]
  },
  {
   "cell_type": "markdown",
   "metadata": {},
   "source": [
    "### Decision Tree"
   ]
  },
  {
   "cell_type": "markdown",
   "metadata": {},
   "source": [
    "For the decision tree, default parameters seems to not enhance the result much. \n",
    "\n",
    "Therefore, we just launched it several times to find a maximum accuracy."
   ]
  },
  {
   "cell_type": "code",
   "execution_count": 10,
   "metadata": {
    "collapsed": false,
    "scrolled": true
   },
   "outputs": [
    {
     "name": "stdout",
     "output_type": "stream",
     "text": [
      "Best accuracy is 0.2475\n"
     ]
    }
   ],
   "source": [
    "max_score = 0\n",
    "for i in range(100):\n",
    "    model = tree.DecisionTreeClassifier()\n",
    "    score = np.mean(cross_val_score(model, sc_attributes, target_multinomial,cv=10))\n",
    "#    print(\"Averaged accuracy: \" + str(score) )\n",
    "    if (score >= max_score):\n",
    "        max_score = score\n",
    "\n",
    "print(\"Best accuracy is \"+ str(max_score))\n",
    "global_accuracy_scores[\"Decision Tree \"] = max_score"
   ]
  },
  {
   "cell_type": "markdown",
   "metadata": {},
   "source": [
    "### Naïve Bayes"
   ]
  },
  {
   "cell_type": "code",
   "execution_count": 11,
   "metadata": {
    "collapsed": false,
    "scrolled": false
   },
   "outputs": [
    {
     "name": "stdout",
     "output_type": "stream",
     "text": [
      "Averaged Naïve Bayes Accuracy: 0.302\n"
     ]
    }
   ],
   "source": [
    "NB_model = GaussianNB()\n",
    "NB_acc_scores = cross_val_score(NB_model, sc_attributes, target_multinomial,cv=10)\n",
    "\n",
    "avg_NB_acc = np.mean(NB_acc_scores)\n",
    "print(\"Averaged Naïve Bayes Accuracy: \" + str(avg_NB_acc))\n",
    "global_accuracy_scores[\"Naive Bayes\"] = max_score"
   ]
  },
  {
   "cell_type": "markdown",
   "metadata": {},
   "source": [
    "### Neural Networks"
   ]
  },
  {
   "cell_type": "code",
   "execution_count": 12,
   "metadata": {
    "collapsed": false
   },
   "outputs": [
    {
     "name": "stdout",
     "output_type": "stream",
     "text": [
      "Using tanh as activation function:\n",
      "Averaged accuracy for alpha=0.1: 0.3035\n",
      "Averaged accuracy for alpha=1: 0.326\n",
      "Averaged accuracy for alpha=2: 0.338\n",
      "Averaged accuracy for alpha=5: 0.3635\n",
      "Averaged accuracy for alpha=10: 0.3705\n",
      "Averaged accuracy for alpha=20: 0.3675\n",
      "Best accuracy is 0.3705 with alpha=10\n",
      "Averaged accuracy for hidden layer size s=20: 0.3675\n",
      "Averaged accuracy for hidden layer size s=25: 0.3705\n",
      "Averaged accuracy for hidden layer size s=30: 0.366\n",
      "Averaged accuracy for hidden layer size s=50: 0.368\n",
      "Averaged accuracy for hidden layer size s=100: 0.368\n",
      "Averaged accuracy for hidden layer size s=200: 0.369\n",
      "Best accuracy is 0.3705 with hidden layer size s=25\n",
      "Using identity as activation function:\n",
      "Averaged accuracy for alpha=0.1: 0.372\n",
      "Averaged accuracy for alpha=1: 0.3685\n",
      "Averaged accuracy for alpha=2: 0.3675\n",
      "Averaged accuracy for alpha=5: 0.366\n",
      "Averaged accuracy for alpha=10: 0.364\n",
      "Averaged accuracy for alpha=20: 0.3655\n",
      "Best accuracy is 0.372 with alpha=0.1\n",
      "Averaged accuracy for hidden layer size s=20: 0.3695\n",
      "Averaged accuracy for hidden layer size s=25: 0.372\n",
      "Averaged accuracy for hidden layer size s=30: 0.3705\n",
      "Averaged accuracy for hidden layer size s=50: 0.372\n",
      "Averaged accuracy for hidden layer size s=100: 0.3705\n",
      "Averaged accuracy for hidden layer size s=200: 0.371\n",
      "Best accuracy is 0.372 with hidden layer size s=25\n",
      "Using logistic as activation function:\n",
      "Averaged accuracy for alpha=0.1: 0.3285\n",
      "Averaged accuracy for alpha=1: 0.3475\n",
      "Averaged accuracy for alpha=2: 0.365\n",
      "Averaged accuracy for alpha=5: 0.365\n",
      "Averaged accuracy for alpha=10: 0.35\n",
      "Averaged accuracy for alpha=20: 0.3065\n",
      "Best accuracy is 0.365 with alpha=5\n",
      "Averaged accuracy for hidden layer size s=20: 0.3715\n",
      "Averaged accuracy for hidden layer size s=25: 0.365\n",
      "Averaged accuracy for hidden layer size s=30: 0.3665\n",
      "Averaged accuracy for hidden layer size s=50: 0.3705\n",
      "Averaged accuracy for hidden layer size s=100: 0.368\n",
      "Averaged accuracy for hidden layer size s=200: 0.365\n",
      "Best accuracy is 0.3715 with hidden layer size s=20\n",
      "Using relu as activation function:\n",
      "Averaged accuracy for alpha=0.1: 0.3225\n",
      "Averaged accuracy for alpha=1: 0.3285\n",
      "Averaged accuracy for alpha=2: 0.329\n",
      "Averaged accuracy for alpha=5: 0.3485\n",
      "Averaged accuracy for alpha=10: 0.3625\n",
      "Averaged accuracy for alpha=20: 0.366\n",
      "Best accuracy is 0.366 with alpha=20\n",
      "Averaged accuracy for hidden layer size s=20: 0.3675\n",
      "Averaged accuracy for hidden layer size s=25: 0.366\n",
      "Averaged accuracy for hidden layer size s=30: 0.362\n",
      "Averaged accuracy for hidden layer size s=50: 0.366\n",
      "Averaged accuracy for hidden layer size s=100: 0.3645\n",
      "Averaged accuracy for hidden layer size s=200: 0.367\n",
      "Best accuracy is 0.3675 with hidden layer size s=20\n",
      "\n",
      "The best final accuracy is 0.372 with a hidden layer size of s=25 and alpha=0.1.\n",
      "\n"
     ]
    }
   ],
   "source": [
    "Alphas = [0.1, 1, 2, 5, 10, 20]\n",
    "HLsizes = [20, 25, 30, 50, 100, 200]\n",
    "Activation_functions = ['tanh', 'identity', 'logistic', 'relu']\n",
    "default_alpha = 5\n",
    "default_size = 25\n",
    "final_score = 0\n",
    "final_alpha = 0\n",
    "final_size = 0\n",
    "\n",
    "for f in Activation_functions:\n",
    "    print(\"\\nUsing \" + f + \" as activation function:\")\n",
    "    max_score=0\n",
    "    best_alpha = default_alpha\n",
    "    best_size = default_size\n",
    "    \n",
    "    for a in Alphas:\n",
    "        model = MLPClassifier(hidden_layer_sizes=(best_size,),alpha=a,activation=f, solver='lbfgs', random_state = 1)\n",
    "        score = np.mean(cross_val_score(model, sc_attributes, target_multinomial,cv=10))\n",
    "        print(\"Averaged accuracy for alpha=\" + str(a) + \": \" + str(score) )\n",
    "        if (score >= max_score):\n",
    "            max_score = score\n",
    "            best_alpha = a\n",
    "    \n",
    "    print(\"Best accuracy is \"+ str(max_score) + \" with alpha=\" + str(best_alpha))\n",
    "    \n",
    "    max_score = 0\n",
    "    for s in HLsizes:\n",
    "        model = MLPClassifier(hidden_layer_sizes=(s,), alpha=best_alpha, activation=f, solver='lbfgs', random_state = 1)\n",
    "        score = np.mean(cross_val_score(model, sc_attributes, target_multinomial,cv=10))\n",
    "        print(\"Averaged accuracy for hidden layer size s=\" + str(s) + \": \" + str(score) )\n",
    "        if (score > max_score):\n",
    "            max_score = score\n",
    "            best_size = s\n",
    "    \n",
    "    print(\"Best accuracy is \"+ str(max_score) + \" with hidden layer size s=\" + str(best_size))\n",
    "    if (max_score > final_score):\n",
    "        final_score = max_score\n",
    "        final_alpha = best_alpha\n",
    "        final_size = best_size\n",
    "\n",
    "print(\"\\nThe best final accuracy is \" + str(final_score) + \" with a hidden layer size of s=\" + str(final_size) + \" and alpha=\" + str(final_alpha)+ \".\\n\")\n",
    "global_accuracy_scores[\"Neural Networks\"] = final_score"
   ]
  },
  {
   "cell_type": "markdown",
   "metadata": {},
   "source": [
    "### Support Vector Machine"
   ]
  },
  {
   "cell_type": "code",
   "execution_count": 13,
   "metadata": {
    "collapsed": false,
    "scrolled": false
   },
   "outputs": [
    {
     "name": "stdout",
     "output_type": "stream",
     "text": [
      "Using linear kernel\n",
      "Averaged accuracy for c=0.01: 0.3245\n",
      "Averaged accuracy for c=0.1: 0.3665\n",
      "Averaged accuracy for c=1: 0.3655\n",
      "Averaged accuracy for c=2: 0.3645\n",
      "Averaged accuracy for c=3: 0.366\n",
      "Averaged accuracy for c=5: 0.3645\n",
      "Best accuracy is 0.3665 with c=0.1\n",
      "\n",
      "Using poly kernel\n",
      "Averaged accuracy for c=0.01: 0.1395\n",
      "Averaged accuracy for c=0.1: 0.207\n",
      "Averaged accuracy for c=1: 0.293\n",
      "Averaged accuracy for c=2: 0.302\n",
      "Averaged accuracy for c=3: 0.299\n",
      "Averaged accuracy for c=5: 0.3025\n",
      "Best accuracy is 0.3025 with c=5\n",
      "\n",
      "Using rbf kernel\n",
      "Averaged accuracy for c=0.01: 0.3125\n",
      "Averaged accuracy for c=0.1: 0.3155\n",
      "Averaged accuracy for c=1: 0.346\n",
      "Averaged accuracy for c=2: 0.3445\n",
      "Averaged accuracy for c=3: 0.3415\n",
      "Averaged accuracy for c=5: 0.3315\n",
      "Best accuracy is 0.346 with c=1\n",
      "\n",
      "Using sigmoid kernel\n",
      "Averaged accuracy for c=0.01: 0.277\n",
      "Averaged accuracy for c=0.1: 0.287\n",
      "Averaged accuracy for c=1: 0.2945\n",
      "Averaged accuracy for c=2: 0.29\n",
      "Averaged accuracy for c=3: 0.2855\n",
      "Averaged accuracy for c=5: 0.277\n",
      "Best accuracy is 0.2945 with c=1\n",
      "\n"
     ]
    }
   ],
   "source": [
    "Cs = [0.01,0.1,1,2,3,5]\n",
    "kernels = ['linear', 'poly', 'rbf', 'sigmoid']\n",
    "\n",
    "for k in kernels:\n",
    "    print(\"Using \"+ k + \" kernel\")\n",
    "    max_score = 0\n",
    "    best_c = Cs[0]\n",
    "    for c in Cs:\n",
    "        model = SVC(kernel = k,C=c, random_state=1)\n",
    "        score = np.mean(cross_val_score(model, sc_attributes, target_multinomial,cv=10, scoring='accuracy'))\n",
    "        print(\"Averaged accuracy for c=\" + str(c) + \": \" + str(score) )\n",
    "        if (score > max_score):\n",
    "            max_score = score\n",
    "            best_c = c\n",
    "            \n",
    "    print(\"Best accuracy is \"+ str(max_score) + \" with c=\" + str(best_c)+\"\\n\")\n",
    "\n",
    "global_accuracy_scores[\"Support Vector Machine\"] = max_score"
   ]
  },
  {
   "cell_type": "markdown",
   "metadata": {},
   "source": [
    "### Random Forest"
   ]
  },
  {
   "cell_type": "markdown",
   "metadata": {},
   "source": [
    "According to [the documentation of scikit-learn](http://scikit-learn.org/stable/modules/ensemble.html#parameters), the main parameters to adjust when using these methods are n_estimators and max_features.\n",
    "\n",
    "Besides, it can be seen in the same page that empirical good default value for classification tasks is max_features=sqrt(n_features), which is the default value.\n",
    "\n",
    "Thus, the optimization will only be done over n_estimators.\n",
    "\n",
    "After a first loop, we saw that there is no significan enhancement after n_estimators > 50"
   ]
  },
  {
   "cell_type": "code",
   "execution_count": 20,
   "metadata": {
    "collapsed": false
   },
   "outputs": [
    {
     "name": "stdout",
     "output_type": "stream",
     "text": [
      "Averaged accuracy for estimator=50: 0.3545\n",
      "Averaged accuracy for estimator=51: 0.356\n",
      "Averaged accuracy for estimator=52: 0.3495\n",
      "Averaged accuracy for estimator=53: 0.348\n",
      "Averaged accuracy for estimator=54: 0.353\n",
      "Averaged accuracy for estimator=55: 0.3505\n",
      "Averaged accuracy for estimator=56: 0.3515\n",
      "Averaged accuracy for estimator=57: 0.3495\n",
      "Averaged accuracy for estimator=58: 0.352\n",
      "Averaged accuracy for estimator=59: 0.3515\n",
      "Averaged accuracy for estimator=60: 0.352\n",
      "Averaged accuracy for estimator=61: 0.351\n",
      "Averaged accuracy for estimator=62: 0.352\n",
      "Averaged accuracy for estimator=63: 0.354\n",
      "Averaged accuracy for estimator=64: 0.356\n",
      "Averaged accuracy for estimator=65: 0.3555\n",
      "Averaged accuracy for estimator=66: 0.3525\n",
      "Averaged accuracy for estimator=67: 0.356\n",
      "Averaged accuracy for estimator=68: 0.3595\n",
      "Averaged accuracy for estimator=69: 0.359\n",
      "Averaged accuracy for estimator=70: 0.361\n",
      "Best accuracy is 0.361 with estimator=70\n"
     ]
    }
   ],
   "source": [
    "estimators = range(50, 71, 1)\n",
    "max_score = 0\n",
    "best_estimator = 1\n",
    "\n",
    "for e in estimators:\n",
    "    model = RandomForestClassifier(n_estimators=e, random_state=1)\n",
    "    score = np.mean(cross_val_score(model, sc_attributes, target_multinomial,cv=10))\n",
    "    print(\"Averaged accuracy for estimator=\" + str(e) + \": \" + str(score) )\n",
    "    if (score >= max_score):\n",
    "        max_score = score\n",
    "        best_estimator = e\n",
    "\n",
    "print(\"Best accuracy is \"+ str(max_score) + \" with estimator=\" + str(best_estimator))\n",
    "global_accuracy_scores[\"Random Forest\"] = max_score"
   ]
  },
  {
   "cell_type": "markdown",
   "metadata": {},
   "source": [
    "### Comparison of Models"
   ]
  },
  {
   "cell_type": "code",
   "execution_count": 33,
   "metadata": {
    "collapsed": false
   },
   "outputs": [
    {
     "data": {
      "text/plain": [
       "<Container object of 8 artists>"
      ]
     },
     "execution_count": 33,
     "metadata": {},
     "output_type": "execute_result"
    },
    {
     "data": {
      "image/png": "[encoded data removed]",
      "text/plain": [
       "<matplotlib.figure.Figure at 0x10df748d0>"
      ]
     },
     "metadata": {},
     "output_type": "display_data"
    }
   ],
   "source": [
    "plt.xticks(range(len(global_accuracy_scores)), global_accuracy_scores.keys(), rotation=90)\n",
    "plt.bar(range(len(global_accuracy_scores)), global_accuracy_scores.values(), align='center')"
   ]
  },
  {
   "cell_type": "markdown",
   "metadata": {},
   "source": [
    "### Final Model"
   ]
  },
  {
   "cell_type": "markdown",
   "metadata": {},
   "source": [
    "The model that best fits our data is Neural Network"
   ]
  },
  {
   "cell_type": "code",
   "execution_count": null,
   "metadata": {
    "collapsed": true
   },
   "outputs": [],
   "source": []
  },
  {
   "cell_type": "markdown",
   "metadata": {},
   "source": [
    "## Important Features"
   ]
  },
  {
   "cell_type": "code",
   "execution_count": 36,
   "metadata": {
    "collapsed": false
   },
   "outputs": [
    {
     "ename": "NameError",
     "evalue": "name 'lr_best_c' is not defined",
     "output_type": "error",
     "traceback": [
      "\u001b[0;31m---------------------------------------------------------------------------\u001b[0m",
      "\u001b[0;31mNameError\u001b[0m                                 Traceback (most recent call last)",
      "\u001b[0;32m<ipython-input-36-5b25ad2cadf8>\u001b[0m in \u001b[0;36m<module>\u001b[0;34m()\u001b[0m\n\u001b[1;32m      1\u001b[0m \u001b[0mx_train\u001b[0m\u001b[0;34m,\u001b[0m \u001b[0mx_test\u001b[0m\u001b[0;34m,\u001b[0m \u001b[0my_train\u001b[0m\u001b[0;34m,\u001b[0m \u001b[0my_test\u001b[0m \u001b[0;34m=\u001b[0m \u001b[0mtrain_test_split\u001b[0m\u001b[0;34m(\u001b[0m\u001b[0msc_attributes\u001b[0m\u001b[0;34m,\u001b[0m \u001b[0mtarget_multinomial\u001b[0m\u001b[0;34m,\u001b[0m \u001b[0mtrain_size\u001b[0m\u001b[0;34m=\u001b[0m\u001b[0;36m0.67\u001b[0m\u001b[0;34m,\u001b[0m \u001b[0mrandom_state\u001b[0m\u001b[0;34m=\u001b[0m\u001b[0;36m1\u001b[0m\u001b[0;34m)\u001b[0m\u001b[0;34m\u001b[0m\u001b[0m\n\u001b[1;32m      2\u001b[0m \u001b[0;34m\u001b[0m\u001b[0m\n\u001b[0;32m----> 3\u001b[0;31m \u001b[0mbest_model\u001b[0m \u001b[0;34m=\u001b[0m  \u001b[0mLogisticRegression\u001b[0m\u001b[0;34m(\u001b[0m\u001b[0mC\u001b[0m\u001b[0;34m=\u001b[0m\u001b[0mlr_best_c\u001b[0m\u001b[0;34m,\u001b[0m \u001b[0mmulti_class\u001b[0m\u001b[0;34m=\u001b[0m\u001b[0;34m'multinomial'\u001b[0m\u001b[0;34m,\u001b[0m \u001b[0msolver\u001b[0m\u001b[0;34m=\u001b[0m\u001b[0;34m'newton-cg'\u001b[0m\u001b[0;34m)\u001b[0m\u001b[0;34m\u001b[0m\u001b[0m\n\u001b[0m\u001b[1;32m      4\u001b[0m \u001b[0mbest_model_fitted\u001b[0m \u001b[0;34m=\u001b[0m \u001b[0mbest_model\u001b[0m\u001b[0;34m.\u001b[0m\u001b[0mfit\u001b[0m\u001b[0;34m(\u001b[0m\u001b[0mx_train\u001b[0m\u001b[0;34m,\u001b[0m\u001b[0my_train\u001b[0m\u001b[0;34m)\u001b[0m\u001b[0;34m\u001b[0m\u001b[0m\n\u001b[1;32m      5\u001b[0m \u001b[0;34m\u001b[0m\u001b[0m\n",
      "\u001b[0;31mNameError\u001b[0m: name 'lr_best_c' is not defined"
     ]
    }
   ],
   "source": [
    "x_train, x_test, y_train, y_test = train_test_split(sc_attributes, target_multinomial, train_size=0.67, random_state=1)\n",
    "\n",
    "best_model =  LogisticRegression(C=lr_best_c, multi_class='multinomial', solver='newton-cg')\n",
    "best_model_fitted = best_model.fit(x_train,y_train)\n",
    "\n",
    "\n",
    "indices_max_weights = np.argmax(best_model_fitted.coef_, axis=1)\n",
    "indices_min_weights = np.argmin(best_model_fitted.coef_, axis=1)\n",
    "\n",
    "for index,genre in enumerate(GENRES):\n",
    "    print('%s:' % genre)\n",
    "    print('\\tBest attribute %s - weights=%0.3f' % (pd_attributes.columns.values[indices_max_weights[index]], best_model_fitted.coef_[index][indices_max_weights[index]]))\n",
    "    print('\\tWorst attribute %s - weights=%0.3f' % (pd_attributes.columns.values[indices_min_weights[index]], best_model_fitted.coef_[index][indices_min_weights[index]]))"
   ]
  },
  {
   "cell_type": "code",
   "execution_count": null,
   "metadata": {
    "collapsed": true
   },
   "outputs": [],
   "source": []
  },
  {
   "cell_type": "code",
   "execution_count": null,
   "metadata": {
    "collapsed": true
   },
   "outputs": [],
   "source": []
  },
  {
   "cell_type": "code",
   "execution_count": null,
   "metadata": {
    "collapsed": true
   },
   "outputs": [],
   "source": []
  }
 ],
 "metadata": {
  "anaconda-cloud": {},
  "kernelspec": {
   "display_name": "Python [Root]",
   "language": "python",
   "name": "Python [Root]"
  },
  "language_info": {
   "codemirror_mode": {
    "name": "ipython",
    "version": 3
   },
   "file_extension": ".py",
   "mimetype": "text/x-python",
   "name": "python",
   "nbconvert_exporter": "python",
   "pygments_lexer": "ipython3",
   "version": "3.5.2"
  }
 },
 "nbformat": 4,
 "nbformat_minor": 0
}
