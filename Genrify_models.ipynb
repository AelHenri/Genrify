{
 "cells": [
  {
   "cell_type": "markdown",
   "metadata": {},
   "source": [
    "# Genrify Project - Phase II\n",
    "## Music genre prediction"
   ]
  },
  {
   "cell_type": "markdown",
   "metadata": {},
   "source": [
    "Henri Toussaint<br>\n",
    "Victor Saint Guilhem<br>\n",
    "Benoît Lafon<br>"
   ]
  },
  {
   "cell_type": "markdown",
   "metadata": {},
   "source": [
    "The project sets out to predict the genre of a music using the Spotify API, which provides audio features for each tracks. To collect the tracks, we used a recommandation function with a genre seed. We handpicked 20 genres in order to best represent tracks, and from each genre, we collected 100 tracks."
   ]
  },
  {
   "cell_type": "markdown",
   "metadata": {},
   "source": [
    "# Data Loading Using Pandas"
   ]
  },
  {
   "cell_type": "code",
   "execution_count": 7,
   "metadata": {
    "collapsed": false
   },
   "outputs": [
    {
     "name": "stdout",
     "output_type": "stream",
     "text": [
      "Number of instances: 1999\n",
      "Number of attributes: 12\n",
      "Attributes:\n",
      "\tacousticness\n",
      "\tdanceability\n",
      "\tduration_ms\n",
      "\tenergy\n",
      "\tinstrumentalness\n",
      "\tkey\n",
      "\tliveness\n",
      "\tloudness\n",
      "\tspeechiness\n",
      "\ttempo\n",
      "\ttime_signature\n",
      "\tvalence\n"
     ]
    }
   ],
   "source": [
    "import pandas as pd\n",
    "import numpy as np\n",
    "import matplotlib.pyplot as plt\n",
    "\n",
    "data = pd.read_csv(\"music_collection.csv\")\n",
    "pd_attributes = data.loc[:,'acousticness':'valence']\n",
    "attributes = np.array(pd_attributes)\n",
    "\n",
    "print('Number of instances: ' + str(data.shape[0]))\n",
    "print('Number of attributes: ' + str(pd_attributes.shape[1]))\n",
    "print('Attributes:')\n",
    "for i in pd_attributes.columns.values:\n",
    "    print('\\t'+str(i))"
   ]
  },
  {
   "cell_type": "code",
   "execution_count": 8,
   "metadata": {
    "collapsed": false
   },
   "outputs": [
    {
     "data": {
      "text/html": [
       "<div>\n",
       "<table border=\"1\" class=\"dataframe\">\n",
       "  <thead>\n",
       "    <tr style=\"text-align: right;\">\n",
       "      <th></th>\n",
       "      <th>artist</th>\n",
       "      <th>track</th>\n",
       "      <th>acousticness</th>\n",
       "      <th>danceability</th>\n",
       "      <th>duration_ms</th>\n",
       "      <th>energy</th>\n",
       "      <th>instrumentalness</th>\n",
       "      <th>key</th>\n",
       "      <th>liveness</th>\n",
       "      <th>loudness</th>\n",
       "      <th>speechiness</th>\n",
       "      <th>tempo</th>\n",
       "      <th>time_signature</th>\n",
       "      <th>valence</th>\n",
       "      <th>genre</th>\n",
       "    </tr>\n",
       "  </thead>\n",
       "  <tbody>\n",
       "    <tr>\n",
       "      <th>0</th>\n",
       "      <td>Coldplay</td>\n",
       "      <td>Viva La Vida</td>\n",
       "      <td>0.09410</td>\n",
       "      <td>0.485</td>\n",
       "      <td>242373</td>\n",
       "      <td>0.619</td>\n",
       "      <td>0.000003</td>\n",
       "      <td>5</td>\n",
       "      <td>0.1090</td>\n",
       "      <td>-7.115</td>\n",
       "      <td>0.0289</td>\n",
       "      <td>138.017</td>\n",
       "      <td>4</td>\n",
       "      <td>0.424</td>\n",
       "      <td>alternative</td>\n",
       "    </tr>\n",
       "    <tr>\n",
       "      <th>1</th>\n",
       "      <td>Trails and Ways</td>\n",
       "      <td>Animal (Miike Snow Cover)</td>\n",
       "      <td>0.25300</td>\n",
       "      <td>0.686</td>\n",
       "      <td>197624</td>\n",
       "      <td>0.606</td>\n",
       "      <td>0.000000</td>\n",
       "      <td>11</td>\n",
       "      <td>0.1590</td>\n",
       "      <td>-7.897</td>\n",
       "      <td>0.0539</td>\n",
       "      <td>112.107</td>\n",
       "      <td>4</td>\n",
       "      <td>0.418</td>\n",
       "      <td>alternative</td>\n",
       "    </tr>\n",
       "    <tr>\n",
       "      <th>2</th>\n",
       "      <td>Mumford &amp; Sons</td>\n",
       "      <td>Little Lion Man</td>\n",
       "      <td>0.02750</td>\n",
       "      <td>0.517</td>\n",
       "      <td>245173</td>\n",
       "      <td>0.492</td>\n",
       "      <td>0.000032</td>\n",
       "      <td>5</td>\n",
       "      <td>0.0873</td>\n",
       "      <td>-8.051</td>\n",
       "      <td>0.0272</td>\n",
       "      <td>138.579</td>\n",
       "      <td>4</td>\n",
       "      <td>0.446</td>\n",
       "      <td>alternative</td>\n",
       "    </tr>\n",
       "    <tr>\n",
       "      <th>3</th>\n",
       "      <td>Linkin Park</td>\n",
       "      <td>Numb</td>\n",
       "      <td>0.00366</td>\n",
       "      <td>0.493</td>\n",
       "      <td>186240</td>\n",
       "      <td>0.856</td>\n",
       "      <td>0.000000</td>\n",
       "      <td>6</td>\n",
       "      <td>0.6280</td>\n",
       "      <td>-4.134</td>\n",
       "      <td>0.0384</td>\n",
       "      <td>110.097</td>\n",
       "      <td>4</td>\n",
       "      <td>0.218</td>\n",
       "      <td>alternative</td>\n",
       "    </tr>\n",
       "    <tr>\n",
       "      <th>4</th>\n",
       "      <td>The Naked And Famous</td>\n",
       "      <td>Punching In A Dream</td>\n",
       "      <td>0.00276</td>\n",
       "      <td>0.476</td>\n",
       "      <td>238133</td>\n",
       "      <td>0.894</td>\n",
       "      <td>0.000847</td>\n",
       "      <td>6</td>\n",
       "      <td>0.1580</td>\n",
       "      <td>-3.636</td>\n",
       "      <td>0.0469</td>\n",
       "      <td>115.053</td>\n",
       "      <td>4</td>\n",
       "      <td>0.164</td>\n",
       "      <td>alternative</td>\n",
       "    </tr>\n",
       "  </tbody>\n",
       "</table>\n",
       "</div>"
      ],
      "text/plain": [
       "                 artist                      track  acousticness  \\\n",
       "0              Coldplay               Viva La Vida       0.09410   \n",
       "1       Trails and Ways  Animal (Miike Snow Cover)       0.25300   \n",
       "2        Mumford & Sons            Little Lion Man       0.02750   \n",
       "3           Linkin Park                       Numb       0.00366   \n",
       "4  The Naked And Famous        Punching In A Dream       0.00276   \n",
       "\n",
       "   danceability  duration_ms  energy  instrumentalness  key  liveness  \\\n",
       "0         0.485       242373   0.619          0.000003    5    0.1090   \n",
       "1         0.686       197624   0.606          0.000000   11    0.1590   \n",
       "2         0.517       245173   0.492          0.000032    5    0.0873   \n",
       "3         0.493       186240   0.856          0.000000    6    0.6280   \n",
       "4         0.476       238133   0.894          0.000847    6    0.1580   \n",
       "\n",
       "   loudness  speechiness    tempo  time_signature  valence        genre  \n",
       "0    -7.115       0.0289  138.017               4    0.424  alternative  \n",
       "1    -7.897       0.0539  112.107               4    0.418  alternative  \n",
       "2    -8.051       0.0272  138.579               4    0.446  alternative  \n",
       "3    -4.134       0.0384  110.097               4    0.218  alternative  \n",
       "4    -3.636       0.0469  115.053               4    0.164  alternative  "
      ]
     },
     "execution_count": 8,
     "metadata": {},
     "output_type": "execute_result"
    }
   ],
   "source": [
    "data.head()"
   ]
  },
  {
   "cell_type": "markdown",
   "metadata": {},
   "source": [
    "# Target variable"
   ]
  },
  {
   "cell_type": "code",
   "execution_count": 9,
   "metadata": {
    "collapsed": false
   },
   "outputs": [
    {
     "data": {
      "text/plain": [
       "<matplotlib.axes._subplots.AxesSubplot at 0x7f8e6b32aba8>"
      ]
     },
     "execution_count": 9,
     "metadata": {},
     "output_type": "execute_result"
    },
    {
     "data": {
      "image/png": "[encoded data removed]",
      "text/plain": [
       "<matplotlib.figure.Figure at 0x7f8e6b079be0>"
      ]
     },
     "metadata": {},
     "output_type": "display_data"
    }
   ],
   "source": [
    "#plt.figure('Genres')\n",
    "%matplotlib inline\n",
    "#data['genre'].astype(\"category\")\n",
    "count_genre = data.groupby(\"genre\").size()\n",
    "count_genre.plot(kind='bar',title='Genres',figsize=[13,8], colormap='Paired',fontsize=20)\n"
   ]
  },
  {
   "cell_type": "markdown",
   "metadata": {},
   "source": [
    "# Target Variable vectorized"
   ]
  },
  {
   "cell_type": "code",
   "execution_count": 10,
   "metadata": {
    "collapsed": false
   },
   "outputs": [
    {
     "data": {
      "text/html": [
       "<div>\n",
       "<table border=\"1\" class=\"dataframe\">\n",
       "  <thead>\n",
       "    <tr style=\"text-align: right;\">\n",
       "      <th></th>\n",
       "      <th>alternative</th>\n",
       "      <th>blues</th>\n",
       "      <th>classical</th>\n",
       "      <th>country</th>\n",
       "      <th>electro</th>\n",
       "      <th>folk</th>\n",
       "      <th>french</th>\n",
       "      <th>hard-rock</th>\n",
       "      <th>heavy-metal</th>\n",
       "      <th>hip-hop</th>\n",
       "      <th>indie</th>\n",
       "      <th>jazz</th>\n",
       "      <th>pop</th>\n",
       "      <th>psych-rock</th>\n",
       "      <th>punk-rock</th>\n",
       "      <th>r-n-b</th>\n",
       "      <th>reggae</th>\n",
       "      <th>rock</th>\n",
       "      <th>soul</th>\n",
       "      <th>techno</th>\n",
       "    </tr>\n",
       "  </thead>\n",
       "  <tbody>\n",
       "    <tr>\n",
       "      <th>0</th>\n",
       "      <td>1.0</td>\n",
       "      <td>0.0</td>\n",
       "      <td>0.0</td>\n",
       "      <td>0.0</td>\n",
       "      <td>0.0</td>\n",
       "      <td>0.0</td>\n",
       "      <td>0.0</td>\n",
       "      <td>0.0</td>\n",
       "      <td>0.0</td>\n",
       "      <td>0.0</td>\n",
       "      <td>0.0</td>\n",
       "      <td>0.0</td>\n",
       "      <td>0.0</td>\n",
       "      <td>0.0</td>\n",
       "      <td>0.0</td>\n",
       "      <td>0.0</td>\n",
       "      <td>0.0</td>\n",
       "      <td>0.0</td>\n",
       "      <td>0.0</td>\n",
       "      <td>0.0</td>\n",
       "    </tr>\n",
       "    <tr>\n",
       "      <th>1</th>\n",
       "      <td>1.0</td>\n",
       "      <td>0.0</td>\n",
       "      <td>0.0</td>\n",
       "      <td>0.0</td>\n",
       "      <td>0.0</td>\n",
       "      <td>0.0</td>\n",
       "      <td>0.0</td>\n",
       "      <td>0.0</td>\n",
       "      <td>0.0</td>\n",
       "      <td>0.0</td>\n",
       "      <td>0.0</td>\n",
       "      <td>0.0</td>\n",
       "      <td>0.0</td>\n",
       "      <td>0.0</td>\n",
       "      <td>0.0</td>\n",
       "      <td>0.0</td>\n",
       "      <td>0.0</td>\n",
       "      <td>0.0</td>\n",
       "      <td>0.0</td>\n",
       "      <td>0.0</td>\n",
       "    </tr>\n",
       "    <tr>\n",
       "      <th>2</th>\n",
       "      <td>1.0</td>\n",
       "      <td>0.0</td>\n",
       "      <td>0.0</td>\n",
       "      <td>0.0</td>\n",
       "      <td>0.0</td>\n",
       "      <td>0.0</td>\n",
       "      <td>0.0</td>\n",
       "      <td>0.0</td>\n",
       "      <td>0.0</td>\n",
       "      <td>0.0</td>\n",
       "      <td>0.0</td>\n",
       "      <td>0.0</td>\n",
       "      <td>0.0</td>\n",
       "      <td>0.0</td>\n",
       "      <td>0.0</td>\n",
       "      <td>0.0</td>\n",
       "      <td>0.0</td>\n",
       "      <td>0.0</td>\n",
       "      <td>0.0</td>\n",
       "      <td>0.0</td>\n",
       "    </tr>\n",
       "    <tr>\n",
       "      <th>3</th>\n",
       "      <td>1.0</td>\n",
       "      <td>0.0</td>\n",
       "      <td>0.0</td>\n",
       "      <td>0.0</td>\n",
       "      <td>0.0</td>\n",
       "      <td>0.0</td>\n",
       "      <td>0.0</td>\n",
       "      <td>0.0</td>\n",
       "      <td>0.0</td>\n",
       "      <td>0.0</td>\n",
       "      <td>0.0</td>\n",
       "      <td>0.0</td>\n",
       "      <td>0.0</td>\n",
       "      <td>0.0</td>\n",
       "      <td>0.0</td>\n",
       "      <td>0.0</td>\n",
       "      <td>0.0</td>\n",
       "      <td>0.0</td>\n",
       "      <td>0.0</td>\n",
       "      <td>0.0</td>\n",
       "    </tr>\n",
       "    <tr>\n",
       "      <th>4</th>\n",
       "      <td>1.0</td>\n",
       "      <td>0.0</td>\n",
       "      <td>0.0</td>\n",
       "      <td>0.0</td>\n",
       "      <td>0.0</td>\n",
       "      <td>0.0</td>\n",
       "      <td>0.0</td>\n",
       "      <td>0.0</td>\n",
       "      <td>0.0</td>\n",
       "      <td>0.0</td>\n",
       "      <td>0.0</td>\n",
       "      <td>0.0</td>\n",
       "      <td>0.0</td>\n",
       "      <td>0.0</td>\n",
       "      <td>0.0</td>\n",
       "      <td>0.0</td>\n",
       "      <td>0.0</td>\n",
       "      <td>0.0</td>\n",
       "      <td>0.0</td>\n",
       "      <td>0.0</td>\n",
       "    </tr>\n",
       "  </tbody>\n",
       "</table>\n",
       "</div>"
      ],
      "text/plain": [
       "   alternative  blues  classical  country  electro  folk  french  hard-rock  \\\n",
       "0          1.0    0.0        0.0      0.0      0.0   0.0     0.0        0.0   \n",
       "1          1.0    0.0        0.0      0.0      0.0   0.0     0.0        0.0   \n",
       "2          1.0    0.0        0.0      0.0      0.0   0.0     0.0        0.0   \n",
       "3          1.0    0.0        0.0      0.0      0.0   0.0     0.0        0.0   \n",
       "4          1.0    0.0        0.0      0.0      0.0   0.0     0.0        0.0   \n",
       "\n",
       "   heavy-metal  hip-hop  indie  jazz  pop  psych-rock  punk-rock  r-n-b  \\\n",
       "0          0.0      0.0    0.0   0.0  0.0         0.0        0.0    0.0   \n",
       "1          0.0      0.0    0.0   0.0  0.0         0.0        0.0    0.0   \n",
       "2          0.0      0.0    0.0   0.0  0.0         0.0        0.0    0.0   \n",
       "3          0.0      0.0    0.0   0.0  0.0         0.0        0.0    0.0   \n",
       "4          0.0      0.0    0.0   0.0  0.0         0.0        0.0    0.0   \n",
       "\n",
       "   reggae  rock  soul  techno  \n",
       "0     0.0   0.0   0.0     0.0  \n",
       "1     0.0   0.0   0.0     0.0  \n",
       "2     0.0   0.0   0.0     0.0  \n",
       "3     0.0   0.0   0.0     0.0  \n",
       "4     0.0   0.0   0.0     0.0  "
      ]
     },
     "execution_count": 10,
     "metadata": {},
     "output_type": "execute_result"
    }
   ],
   "source": [
    "pd_target_vect = pd.get_dummies(data['genre'])\n",
    "pd_target_vect.head()"
   ]
  },
  {
   "cell_type": "code",
   "execution_count": 69,
   "metadata": {
    "collapsed": false
   },
   "outputs": [
    {
     "name": "stdout",
     "output_type": "stream",
     "text": [
      "Dimension: (1999, 20)\n",
      "array([[ 1.,  0.,  0., ...,  0.,  0.,  0.],\n",
      "       [ 1.,  0.,  0., ...,  0.,  0.,  0.],\n",
      "       [ 1.,  0.,  0., ...,  0.,  0.,  0.],\n",
      "       ..., \n",
      "       [ 0.,  0.,  0., ...,  0.,  0.,  1.],\n",
      "       [ 0.,  0.,  0., ...,  0.,  0.,  1.],\n",
      "       [ 0.,  0.,  0., ...,  0.,  0.,  1.]])\n"
     ]
    }
   ],
   "source": [
    "target_vect = np.array(pd_target_vect)\n",
    "print('Dimension: ' + str(target_vect.shape))\n",
    "print(repr(target_vect))\n",
    "\n",
    "#Multinomial Target Variable\n",
    "GENRES = ['alternative','blues','classical','country','electro','folk','french','hard-rock','heavy-metal','hip-hop','indie','jazz','pop','psych-rock','punk-rock','r-n-b','reggae','rock','soul','techno']\n",
    "target_multinomial = []\n",
    "for i in data['genre']:\n",
    "    target_multinomial.append(GENRES.index(i))"
   ]
  },
  {
   "cell_type": "markdown",
   "metadata": {},
   "source": [
    "# Logistic Regression"
   ]
  },
  {
   "cell_type": "code",
   "execution_count": 88,
   "metadata": {
    "collapsed": false
   },
   "outputs": [
    {
     "name": "stdout",
     "output_type": "stream",
     "text": [
      "Averaged Logistic Regression Accuracy: 0.343173366834\n"
     ]
    }
   ],
   "source": [
    "from sklearn.preprocessing import scale\n",
    "from sklearn.linear_model import LogisticRegression\n",
    "from sklearn.model_selection import cross_val_score\n",
    "\n",
    "sc_attributes = scale(attributes)\n",
    "#print(repr(sc_attributes))\n",
    "\n",
    "lr_model = LogisticRegression()\n",
    "lr_acc_scores = cross_val_score(lr_model, sc_attributes, target_multinomial,cv=10)\n",
    "avg_lr_acc = np.mean(lr_acc_scores)\n",
    "print(\"Averaged Logistic Regression Accuracy: \" + str(avg_lr_acc))\n"
   ]
  },
  {
   "cell_type": "markdown",
   "metadata": {},
   "source": [
    "# Decision Tree"
   ]
  },
  {
   "cell_type": "code",
   "execution_count": 89,
   "metadata": {
    "collapsed": false
   },
   "outputs": [
    {
     "name": "stdout",
     "output_type": "stream",
     "text": [
      "Averaged Decision Tree Accuracy: 0.253655778894\n"
     ]
    }
   ],
   "source": [
    "from sklearn import tree\n",
    "\n",
    "tree_model = tree.DecisionTreeClassifier()\n",
    "tree_acc_scores = cross_val_score(tree_model, sc_attributes, target_multinomial,cv=10)\n",
    "avg_tree_acc = np.mean(tree_acc_scores)\n",
    "print(\"Averaged Decision Tree Accuracy: \" + str(avg_tree_acc))\n"
   ]
  }
 ],
 "metadata": {
  "anaconda-cloud": {},
  "kernelspec": {
   "display_name": "Python [Root]",
   "language": "python",
   "name": "Python [Root]"
  },
  "language_info": {
   "codemirror_mode": {
    "name": "ipython",
    "version": 3
   },
   "file_extension": ".py",
   "mimetype": "text/x-python",
   "name": "python",
   "nbconvert_exporter": "python",
   "pygments_lexer": "ipython3",
   "version": "3.5.2"
  }
 },
 "nbformat": 4,
 "nbformat_minor": 0
}
