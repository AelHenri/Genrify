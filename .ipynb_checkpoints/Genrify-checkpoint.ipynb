{
 "cells": [
  {
   "cell_type": "markdown",
   "metadata": {},
   "source": [
    "# Genrify Project\n",
    "## Music genre prediction"
   ]
  },
  {
   "cell_type": "markdown",
   "metadata": {},
   "source": [
    "Henri Toussaint<br>\n",
    "Victor Saint Guilhem<br>\n",
    "Benoît Lafon<br>"
   ]
  },
  {
   "cell_type": "markdown",
   "metadata": {},
   "source": [
    "The project sets out to predict the genre of a music using the Spotify API."
   ]
  },
  {
   "cell_type": "markdown",
   "metadata": {},
   "source": [
    "## Data Loading"
   ]
  },
  {
   "cell_type": "code",
   "execution_count": 56,
   "metadata": {
    "collapsed": false
   },
   "outputs": [
    {
     "name": "stdout",
     "output_type": "stream",
     "text": [
      "Number of instances: 200\n",
      "Number of features: 12\n",
      "['acousticness' 'danceability' 'duration_ms' 'energy' 'instrumentalness'\n",
      " 'key' 'liveness' 'loudness' 'speechiness' 'tempo' 'time_signature'\n",
      " 'valence']\n"
     ]
    }
   ],
   "source": [
    "import csv\n",
    "import numpy as np\n",
    "import matplotlib.pyplot as plt\n",
    "\n",
    "with open('music_collection.csv', newline='') as csvfile:\n",
    "    spamreader = csv.reader(csvfile)\n",
    "    data = []\n",
    "    for row in spamreader:\n",
    "        data.append(row)\n",
    "\n",
    "ndata = np.array(data)\n",
    "data_attributes = ndata[1::, 2:14]\n",
    "data_target = ndata[1::, 14]\n",
    "print(\"Number of instances: \" + str(np.shape(data_attributes)[0]))\n",
    "print(\"Number of features: \" + str(np.shape(data_attributes)[1]))\n",
    "print(ndata[0, 2:14])\n"
   ]
  },
  {
   "cell_type": "markdown",
   "metadata": {},
   "source": [
    "# Data Loading Using Pandas"
   ]
  },
  {
   "cell_type": "code",
   "execution_count": 62,
   "metadata": {
    "collapsed": false
   },
   "outputs": [
    {
     "data": {
      "text/html": [
       "<div>\n",
       "<table border=\"1\" class=\"dataframe\">\n",
       "  <thead>\n",
       "    <tr style=\"text-align: right;\">\n",
       "      <th></th>\n",
       "      <th>artist</th>\n",
       "      <th>track</th>\n",
       "      <th>acousticness</th>\n",
       "      <th>danceability</th>\n",
       "      <th>duration_ms</th>\n",
       "      <th>energy</th>\n",
       "      <th>instrumentalness</th>\n",
       "      <th>key</th>\n",
       "      <th>liveness</th>\n",
       "      <th>loudness</th>\n",
       "      <th>speechiness</th>\n",
       "      <th>tempo</th>\n",
       "      <th>time_signature</th>\n",
       "      <th>valence</th>\n",
       "      <th>genre</th>\n",
       "    </tr>\n",
       "  </thead>\n",
       "  <tbody>\n",
       "    <tr>\n",
       "      <th>0</th>\n",
       "      <td>Keith Jarrett</td>\n",
       "      <td>Everything I Love</td>\n",
       "      <td>0.876</td>\n",
       "      <td>0.385</td>\n",
       "      <td>273973</td>\n",
       "      <td>0.3100</td>\n",
       "      <td>0.942000</td>\n",
       "      <td>0</td>\n",
       "      <td>0.1270</td>\n",
       "      <td>-17.769</td>\n",
       "      <td>0.0351</td>\n",
       "      <td>105.816</td>\n",
       "      <td>4.0</td>\n",
       "      <td>0.380</td>\n",
       "      <td>jazz</td>\n",
       "    </tr>\n",
       "    <tr>\n",
       "      <th>1</th>\n",
       "      <td>Ella Fitzgerald</td>\n",
       "      <td>It's Only A Paper Moon</td>\n",
       "      <td>0.958</td>\n",
       "      <td>0.732</td>\n",
       "      <td>156933</td>\n",
       "      <td>0.1380</td>\n",
       "      <td>0.000000</td>\n",
       "      <td>10</td>\n",
       "      <td>0.1070</td>\n",
       "      <td>-14.280</td>\n",
       "      <td>0.0431</td>\n",
       "      <td>118.440</td>\n",
       "      <td>4.0</td>\n",
       "      <td>0.627</td>\n",
       "      <td>jazz</td>\n",
       "    </tr>\n",
       "    <tr>\n",
       "      <th>2</th>\n",
       "      <td>Charles Mingus</td>\n",
       "      <td>Self-Portrait In Three Colours</td>\n",
       "      <td>0.980</td>\n",
       "      <td>0.224</td>\n",
       "      <td>186707</td>\n",
       "      <td>0.0937</td>\n",
       "      <td>0.784000</td>\n",
       "      <td>10</td>\n",
       "      <td>0.1070</td>\n",
       "      <td>-15.641</td>\n",
       "      <td>0.0343</td>\n",
       "      <td>168.418</td>\n",
       "      <td>3.0</td>\n",
       "      <td>0.098</td>\n",
       "      <td>jazz</td>\n",
       "    </tr>\n",
       "    <tr>\n",
       "      <th>3</th>\n",
       "      <td>Eric Reed</td>\n",
       "      <td>I Still Believe in You</td>\n",
       "      <td>0.964</td>\n",
       "      <td>0.605</td>\n",
       "      <td>285000</td>\n",
       "      <td>0.0223</td>\n",
       "      <td>0.907000</td>\n",
       "      <td>1</td>\n",
       "      <td>0.0851</td>\n",
       "      <td>-22.559</td>\n",
       "      <td>0.0499</td>\n",
       "      <td>67.851</td>\n",
       "      <td>4.0</td>\n",
       "      <td>0.218</td>\n",
       "      <td>jazz</td>\n",
       "    </tr>\n",
       "    <tr>\n",
       "      <th>4</th>\n",
       "      <td>Ornette Coleman</td>\n",
       "      <td>Lonely Woman</td>\n",
       "      <td>0.412</td>\n",
       "      <td>0.467</td>\n",
       "      <td>299507</td>\n",
       "      <td>0.3160</td>\n",
       "      <td>0.000351</td>\n",
       "      <td>9</td>\n",
       "      <td>0.0940</td>\n",
       "      <td>-12.072</td>\n",
       "      <td>0.0297</td>\n",
       "      <td>81.013</td>\n",
       "      <td>4.0</td>\n",
       "      <td>0.260</td>\n",
       "      <td>jazz</td>\n",
       "    </tr>\n",
       "  </tbody>\n",
       "</table>\n",
       "</div>"
      ],
      "text/plain": [
       "            artist                           track  acousticness  \\\n",
       "0    Keith Jarrett               Everything I Love         0.876   \n",
       "1  Ella Fitzgerald          It's Only A Paper Moon         0.958   \n",
       "2   Charles Mingus  Self-Portrait In Three Colours         0.980   \n",
       "3        Eric Reed          I Still Believe in You         0.964   \n",
       "4  Ornette Coleman                    Lonely Woman         0.412   \n",
       "\n",
       "   danceability  duration_ms  energy  instrumentalness  key  liveness  \\\n",
       "0         0.385       273973  0.3100          0.942000    0    0.1270   \n",
       "1         0.732       156933  0.1380          0.000000   10    0.1070   \n",
       "2         0.224       186707  0.0937          0.784000   10    0.1070   \n",
       "3         0.605       285000  0.0223          0.907000    1    0.0851   \n",
       "4         0.467       299507  0.3160          0.000351    9    0.0940   \n",
       "\n",
       "   loudness  speechiness    tempo  time_signature  valence genre  \n",
       "0   -17.769       0.0351  105.816             4.0    0.380  jazz  \n",
       "1   -14.280       0.0431  118.440             4.0    0.627  jazz  \n",
       "2   -15.641       0.0343  168.418             3.0    0.098  jazz  \n",
       "3   -22.559       0.0499   67.851             4.0    0.218  jazz  \n",
       "4   -12.072       0.0297   81.013             4.0    0.260  jazz  "
      ]
     },
     "execution_count": 62,
     "metadata": {},
     "output_type": "execute_result"
    }
   ],
   "source": [
    "import pandas as pd\n",
    "\n",
    "data = pd.read_csv(\"music_collection.csv\")\n",
    "data.head()"
   ]
  },
  {
   "cell_type": "code",
   "execution_count": 63,
   "metadata": {
    "collapsed": false
   },
   "outputs": [
    {
     "data": {
      "text/plain": [
       "count    200.000000\n",
       "mean       0.264370\n",
       "std        0.327115\n",
       "min        0.000007\n",
       "25%        0.010850\n",
       "50%        0.099800\n",
       "75%        0.476500\n",
       "max        0.996000\n",
       "Name: acousticness, dtype: float64"
      ]
     },
     "execution_count": 63,
     "metadata": {},
     "output_type": "execute_result"
    }
   ],
   "source": [
    "data['acousticness'].describe()"
   ]
  },
  {
   "cell_type": "code",
   "execution_count": 89,
   "metadata": {
    "collapsed": false
   },
   "outputs": [],
   "source": [
    "data_genre = data[['acousticness']]\n",
    "data_genre.head()\n",
    "my_plot = data_genre.plot(kind='bar')\n",
    "plt.show()"
   ]
  }
 ],
 "metadata": {
  "kernelspec": {
   "display_name": "Python [Root]",
   "language": "python",
   "name": "Python [Root]"
  },
  "language_info": {
   "codemirror_mode": {
    "name": "ipython",
    "version": 3
   },
   "file_extension": ".py",
   "mimetype": "text/x-python",
   "name": "python",
   "nbconvert_exporter": "python",
   "pygments_lexer": "ipython3",
   "version": "3.5.2"
  }
 },
 "nbformat": 4,
 "nbformat_minor": 0
}
